{
 "cells": [
  {
   "cell_type": "code",
   "execution_count": 1,
   "metadata": {},
   "outputs": [],
   "source": [
    "%matplotlib widget\n",
    "import ipywidgets as widgets"
   ]
  },
  {
   "cell_type": "code",
   "execution_count": 2,
   "metadata": {},
   "outputs": [],
   "source": [
    "import numpy as np\n",
    "import pandas as pd\n",
    "import matplotlib.pyplot as plt\n",
    "import os\n",
    "import matplotlib.cm as cm\n",
    "from scipy.interpolate import interp1d"
   ]
  },
  {
   "cell_type": "code",
   "execution_count": 3,
   "metadata": {},
   "outputs": [],
   "source": [
    "# contains helper functions to do actual optimizaiton analysis\n",
    "import optimization_helper_functions as OHF"
   ]
  },
  {
   "cell_type": "code",
   "execution_count": 4,
   "metadata": {},
   "outputs": [],
   "source": [
    "cwd = os.getcwd()"
   ]
  },
  {
   "cell_type": "code",
   "execution_count": 5,
   "metadata": {},
   "outputs": [],
   "source": [
    "diameter = 1.27 #cm\n",
    "area = np.pi*(diameter/2)**2\n",
    "Fconst=96485\n",
    "\n",
    "molar_mass_LiV3O8 = 287.7607\n",
    "density_LiV3O8 = 3.15              \n",
    "density_carbon = 2.266\n",
    "max_mAhg = 362\n",
    "\n",
    "ed_col = 'Electrode Volumetric Energy Density (Wh/cm3)'\n",
    "pd_col = 'Electrode Volumetric Power Density (W/cm3)'\n",
    "aed_col = 'Electrode Areal Energy Density (Wh/cm2)'\n",
    "apd_col = 'Electrode Areal Power Density (W/cm2)'\n",
    "ced_col = 'Cell Volumetric Energy Density (Wh/cm3)'\n",
    "cpd_col = 'Cell Volumetric Power Density (W/cm3)'\n",
    "cap_col = 'Capacity (mAh/g)'"
   ]
  },
  {
   "cell_type": "code",
   "execution_count": 6,
   "metadata": {},
   "outputs": [],
   "source": [
    "# def add_anode(sims,L_sep=20,L_cc_a=15,L_cc_c=15,Q_spec_a=372,rho_a=2.2,eps_a=0.35,Q_a_Q_c_ratio=1):\n",
    "def add_anode(sims,L_sep=20,L_cc_a=15,L_cc_c=15,Q_spec_a=3860,rho_a=0.534,eps_a=0.0,Q_a_Q_c_ratio=1):\n",
    "\n",
    "    LBOC = L_sep+L_cc_a+L_cc_c\n",
    "    \n",
    "    sims['L_anode (um)'] = 10000*max_mAhg*sims['AM Loading (g)']/(Q_a_Q_c_ratio*Q_spec_a*area*(1-eps_a)*rho_a)\n",
    "    sims['L_cell (um)'] = sims['L_anode (um)'] + LBOC + sims['L (um)']\n",
    "    \n",
    "    sims[ced_col] = sims[aed_col]/((sims['L (um)']+LBOC+sims['L_anode (um)'])/10000)\n",
    "    sims[cpd_col] = sims[apd_col]/((sims['L (um)']+LBOC+sims['L_anode (um)'])/10000)\n",
    "    \n",
    "    return sims"
   ]
  },
  {
   "cell_type": "code",
   "execution_count": 7,
   "metadata": {},
   "outputs": [],
   "source": [
    "# read in simulations table\n",
    "all_sims_that_ran = pd.read_csv('simulations_table.txt',sep=',')\n",
    "\n",
    "# add anode\n",
    "all_sims_that_ran = add_anode(all_sims_that_ran)"
   ]
  },
  {
   "cell_type": "markdown",
   "metadata": {},
   "source": [
    "The details of this analysis can be found in the paper [Design Principles to Govern Electrode Fabrication for the Lithium Trivanadate Cathode](https://iopscience.iop.org/article/10.1149/1945-7111/ab91c8). \n",
    "\n",
    "# Optimal Design\n",
    "\n",
    "Choose the **optimization metric** (i.e. Cell Energy Density) you wish to optimize. \n",
    "The **sensitivity** will be displayed as a shaded region that will show the range of design parameter values for which the designated fraction of the maximum achievable **optimization metric** is achieved when the other design parameters are held at their optimal values.\n",
    "After the desired **optimization metric** and **sensitivity** are chosen, click the **Run Interact** button to update the plot. "
   ]
  },
  {
   "cell_type": "code",
   "execution_count": 9,
   "metadata": {},
   "outputs": [
    {
     "data": {
      "application/vnd.jupyter.widget-view+json": {
       "model_id": "8ed4c38bf20e4f21a167a9a282e7b731",
       "version_major": 2,
       "version_minor": 0
      },
      "text/plain": [
       "Canvas(toolbar=Toolbar(toolitems=[('Home', 'Reset original view', 'home', 'home'), ('Back', 'Back to previous …"
      ]
     },
     "metadata": {},
     "output_type": "display_data"
    },
    {
     "data": {
      "application/vnd.jupyter.widget-view+json": {
       "model_id": "b88c412de0aa431888b1b27d523b280c",
       "version_major": 2,
       "version_minor": 0
      },
      "text/plain": [
       "interactive(children=(Dropdown(description='optimization_metric', options=('Cell Volumetric Energy Density (Wh…"
      ]
     },
     "metadata": {},
     "output_type": "display_data"
    }
   ],
   "source": [
    "# plt.close(figi)\n",
    "figi,axi = plt.subplots(1,3,figsize=(9,2.5),constrained_layout=True)\n",
    "@widgets.interact_manual(optimization_metric=[ced_col,aed_col,ed_col,cpd_col,apd_col,pd_col],sensitivity=(0.5,1,0.05))\n",
    "def plot_optimization(optimization_metric,sensitivity):\n",
    "    for ax in axi:\n",
    "        ax.clear()\n",
    "        ax.grid(True)\n",
    "    \n",
    "#     # load all data\n",
    "#     drop_cols = ['Bind Loading (g)', 'Cathode Volume (cm3)','Vol Frac Bind','mAh_exp','tstep (s)',\n",
    "#              'Current (A)','Tortuosity (Bruggeman)']\n",
    "#     crates = [0.1,0.2,0.33,0.5,0.75,1]\n",
    "#     all_crate_sims_that_ran = []\n",
    "#     for cr in crates:\n",
    "\n",
    "#         colname_filename = cwd+'/vary_crate/'+str(cr)+'_C/column_names.txt'\n",
    "\n",
    "#         filename = cwd+'/vary_crate/'+str(cr)+'_C/Simulation_Parameters_processed.txt'\n",
    "#         all_sims, sims_that_ran, sims_that_crashed = OHF.read_in_sims_table(filename,colname_filename,drop_cols,print_cols=False)\n",
    "\n",
    "#         sims_that_ran[apd_col] = sims_that_ran[pd_col]*sims_that_ran['L (um)']/10000\n",
    "#         all_crate_sims_that_ran.append(sims_that_ran)\n",
    "\n",
    "#     all_sims_that_ran = pd.concat(all_crate_sims_that_ran)\n",
    "#     all_sims_that_ran = all_sims_that_ran.drop(['fail_id','Time','Voltage','Integrated Voltage','Ran','Utilization_cr'],axis=1)\n",
    "#     all_sims_that_ran = add_anode(all_sims_that_ran)\n",
    "        \n",
    "    all_sims_that_ran = pd.read_csv('simulations_table.txt',sep=',')\n",
    "    all_sims_that_ran = add_anode(all_sims_that_ran)\n",
    "    design_parameter = optimization_metric\n",
    "    best_cols = ['Porosity','Vol Frac Cond','L (um)']\n",
    "    output_labels = [r'Cell $E_V$ ($\\frac{Wh}{L}$)',r'$E_A$ ($\\frac{Wh}{m^2}$)']\n",
    "\n",
    "    if design_parameter != cap_col:\n",
    "        all_sims_that_ran,new_design_parameter = OHF.change_units(all_sims_that_ran,design_parameter)\n",
    "    else:\n",
    "        new_design_parameter = design_parameter\n",
    "    best_df = OHF.design_guide_plots(all_sims_that_ran,best_cols,[axi[0],axi[1],axi[2]],optimize_output=new_design_parameter,color='blue')\n",
    "    # for pp in [0.9]:\n",
    "    pp = sensitivity\n",
    "    OHF.plot_percentile(all_sims_that_ran,best_cols,[axi[0],axi[1],axi[2]],color='blue',percentile=pp,optimize_output=new_design_parameter)\n",
    "\n",
    "\n",
    "    axi[0].set_ylim(0,axi[0].get_ylim()[1]*1.1)\n",
    "    axi[0].set_ylabel(r'Optimal $\\epsilon$')\n",
    "\n",
    "    axi[1].axhline(y=0.05,linestyle='--',color='black',lw=2,marker='')\n",
    "    axi[1].set_yscale('linear')\n",
    "    axi[1].set_ylim(0.01,0.09)\n",
    "    axi[1].set_ylabel(r'Optimal $\\widebar{v}_{Cond}$')\n",
    "\n",
    "    axi[2].set_ylim(0,np.min([1.25*axi[2].get_ylim()[1],500]))\n",
    "    axi[2].set_ylabel(r'Optimal L ($\\mu m$)')\n",
    "\n",
    "\n",
    "    for axicr in figi.axes:\n",
    "        axicr.set_xlim(0.1,1.0)"
   ]
  },
  {
   "cell_type": "code",
   "execution_count": 16,
   "metadata": {
    "code_folding": []
   },
   "outputs": [],
   "source": [
    "class electrode:\n",
    "    chemistry = 'LVO'\n",
    "    \n",
    "    # Initializer / Instance Attributes\n",
    "    def __init__(self, L, eps, vfc, vfb=0.0):\n",
    "        self.L = L\n",
    "        self.eps = eps\n",
    "        self.vfc = vfc\n",
    "        self.vfb = vfb\n",
    "        \n",
    "    def get_specs(self):\n",
    "        out_dict = {}\n",
    "        best_cols = ['Porosity','Vol Frac Cond','L (um)']\n",
    "        for col,val in zip(best_cols,[self.eps,self.vfc,self.L]):\n",
    "            out_dict[col] = val\n",
    "        return out_dict\n",
    "        \n",
    "    def nearest_simulated_electrode(self):\n",
    "        best_cols = ['Porosity','Vol Frac Cond','L (um)']\n",
    "        sims = all_sims_that_ran.copy()\n",
    "        for col,val in zip(best_cols,[self.eps,self.vfc,self.L]):\n",
    "            col_vals = sims[col].unique()\n",
    "            sims = sims.loc[sims[col]==col_vals.flat[np.abs(col_vals - val).argmin()]]\n",
    "        return sims\n",
    "        \n",
    "    def performance(self,c_rate):\n",
    "        best_cols = ['Porosity','Vol Frac Cond','L (um)']\n",
    "        sims = all_sims_that_ran.copy()\n",
    "        for col,val in zip(best_cols,[self.eps,self.vfc,self.L]):\n",
    "            col_vals = sims[col].unique()\n",
    "            sims = sims.loc[sims[col]==col_vals.flat[np.abs(col_vals - val).argmin()]]\n",
    "        return sims.loc[sims['C-rate (1/h)']==c_rate]\n",
    "        \n",
    "    def rate_capability(self,ax=None,metric='Capacity (mAh/g)'):\n",
    "        best_cols = ['Porosity','Vol Frac Cond','L (um)']\n",
    "        sims = all_sims_that_ran.copy()\n",
    "        for col,val in zip(best_cols,[self.eps,self.vfc,self.L]):\n",
    "            col_vals = sims[col].unique()\n",
    "            sims = sims.loc[sims[col]==col_vals.flat[np.abs(col_vals - val).argmin()]]\n",
    "        if ax is not None:\n",
    "            lab = 'L = '+str(int(sims['L (um)'].values[0]))+r', $\\epsilon$ =' + str(np.round(sims['Porosity'].values[0],2))+r', $\\widebar{v}_{CNT}$ ='+ str(np.round(sims['Vol Frac Cond'].values[0],2))\n",
    "            ax.plot(sims['C-rate (1/h)'],sims[metric],'-o',label=lab)\n",
    "            ax.set_xlabel('C-rate (1/h)')\n",
    "            ax.set_ylabel(metric)\n",
    "        return sims[['C-rate (1/h)',metric]]\n",
    "#     def active_material_mass(self):\n",
    "    \n",
    "#     def conductor_mass(self):\n",
    "        \n",
    "#     def binder_mass(self):\n",
    "        \n",
    "#     def active_material_mass_loading(self):\n",
    "        \n",
    "#     def volume_distribution(self):\n",
    "        \n",
    "#     def tortuosity(self):\n",
    "        \n",
    "#     def electronic_conductivity(self):\n",
    "        \n",
    "# class cell(electrode):\n",
    "    "
   ]
  },
  {
   "cell_type": "markdown",
   "metadata": {},
   "source": [
    "# Rate Capability\n",
    "\n",
    "This module allows the user to virtually \"make\" different electrodes and visualize how the discharge capacity will depend on the design parameters chosen. \n",
    "\n",
    "The length of the electrode in micros **L_um**, the electrode **porosity**, and the volume fraction of conductive additive **vol_frac_cond** must be specified. \n",
    "\n",
    "After the desired values of design parameters are chosen, click the **Run Interact** button to update the plot. \n",
    "\n",
    "The plot can be cleared by checking the **clear_plot** box."
   ]
  },
  {
   "cell_type": "code",
   "execution_count": 27,
   "metadata": {},
   "outputs": [
    {
     "data": {
      "application/vnd.jupyter.widget-view+json": {
       "model_id": "a1bfeaf8a82d4700bcef97c394fc0cc3",
       "version_major": 2,
       "version_minor": 0
      },
      "text/plain": [
       "Canvas(toolbar=Toolbar(toolitems=[('Home', 'Reset original view', 'home', 'home'), ('Back', 'Back to previous …"
      ]
     },
     "metadata": {},
     "output_type": "display_data"
    },
    {
     "data": {
      "application/vnd.jupyter.widget-view+json": {
       "model_id": "a1018d35092c497c99cf01df72393f94",
       "version_major": 2,
       "version_minor": 0
      },
      "text/plain": [
       "VBox(children=(VBox(children=(Label(value='Performance Metric:'), Dropdown(options=('Capacity (mAh/g)', 'Cell …"
      ]
     },
     "metadata": {},
     "output_type": "display_data"
    }
   ],
   "source": [
    "choose_eps=widgets.FloatSlider(value=0.5,min=0.1,max=0.9,step=0.01,\n",
    "    disabled=False,continuous_update=False,\n",
    "    orientation='horizontal',readout=True,readout_format='.2f')\n",
    "choose_L=widgets.FloatSlider(value=100,min=50,max=500,step=10,\n",
    "    disabled=False,continuous_update=False,\n",
    "    orientation='horizontal',readout=True,readout_format='.0f')\n",
    "choose_vfc=widgets.FloatSlider(value=0.07,min=0.01,max=0.2,step=0.01,\n",
    "    disabled=False,continuous_update=False,\n",
    "    orientation='horizontal',readout=True,readout_format='.2f')\n",
    "\n",
    "choose_metric = widgets.Dropdown(options = [cap_col,ced_col,aed_col,ed_col,cpd_col,apd_col,pd_col])\n",
    "                              \n",
    "button = widgets.Button(description='Plot')\n",
    "    \n",
    "clear_button = widgets.ToggleButton(\n",
    "    value=False,\n",
    "    description='Clear',\n",
    "    icon='check'\n",
    ")\n",
    "\n",
    "fig2, ax2 = plt.subplots(1, 1, figsize=(10, 4),constrained_layout=True)\n",
    "fig2.suptitle('Rate Capability')\n",
    "def plot_RC2(b=None):\n",
    "    \n",
    "#     fig2.suptitle('Rate Capability')\n",
    "    e1 = electrode(L=choose_L.value,eps=choose_eps.value,vfc=choose_vfc.value)\n",
    "    \n",
    "    RC_df = e1.rate_capability(ax2,metric=choose_metric.value)\n",
    "    ax2.grid(True)\n",
    "    \n",
    "    colors = plt.cm.plasma(np.linspace(0.3,1,len(ax2.lines)))\n",
    "    for l,c in zip(ax2.lines,colors):\n",
    "        l.set_color(c)\n",
    "        \n",
    "    ax2.legend(loc='center left', bbox_to_anchor=(1, 0.5),frameon=False)\n",
    "    \n",
    "def clear_plot(b=None):\n",
    "    if clear_button.value:\n",
    "        ax2.clear()\n",
    "    \n",
    "    \n",
    "@button.on_click\n",
    "def plot_on_click(b):\n",
    "    out.clear_output(wait=True)\n",
    "    with out:\n",
    "        clear_plot()\n",
    "        plot_RC2()\n",
    "        plt.show()\n",
    "        \n",
    "\n",
    "out = widgets.Output()\n",
    "widgets.VBox([widgets.VBox([widgets.Label('Performance Metric:'), choose_metric]),widgets.HBox([widgets.VBox([widgets.Label('Porosity:'), choose_eps]),widgets.VBox([widgets.Label('Electrode Length (um):'), choose_L]),widgets.VBox([widgets.Label('Volume Fraction of Conductor:'), choose_vfc])]),\n",
    "              widgets.HBox([clear_button,button]),out])"
   ]
  },
  {
   "cell_type": "markdown",
   "metadata": {},
   "source": [
    "# More Detailed Design Guides\n",
    "\n",
    "To get a better, more quantitative understanding of the sensitivity of performance to the three design parameters, you can pick a desired performance metric, hold one of the three design parameters fixed, and see a contour map for how the performance depends on the remaining two design parameters."
   ]
  },
  {
   "cell_type": "code",
   "execution_count": 10,
   "metadata": {
    "code_folding": [
     3
    ]
   },
   "outputs": [],
   "source": [
    "label_dict = {'Porosity':r'$\\epsilon$','L (um)':r'$L$','Vol Frac Cond':r'$\\widebar{v}_{cond}$'}\n",
    "\n",
    "# simple interpolation to fill in NaNs in physically reasonable ranges where there is a lot of data available\n",
    "def fill_gaps(Z):\n",
    "    for j,z in enumerate(Z):\n",
    "        not_nans_indeces = np.where(~np.isnan(z))[0]\n",
    "        start,end = not_nans_indeces[0],not_nans_indeces[-1]\n",
    "        z_df = pd.DataFrame(z[start:end+1])\n",
    "        z_cut = z_df.loc[z_df[0]>=0]\n",
    "        if len(z_cut)<=2:\n",
    "            continue\n",
    "        sim_func = interp1d(z_cut.index.values,z_cut[0].values)\n",
    "        for i in z_df[z_df.isnull().any(axis=1)].index.values:\n",
    "            z[start+i] = sim_func(i)\n",
    "        Z[j] = z\n",
    "        \n",
    "    Z = Z.T\n",
    "    \n",
    "    for j,z in enumerate(Z):\n",
    "        not_nans_indeces = np.where(~np.isnan(z))[0]\n",
    "        start,end = not_nans_indeces[0],not_nans_indeces[-1]\n",
    "        z_df = pd.DataFrame(z[start:end+1])\n",
    "        z_cut = z_df.loc[z_df[0]>=0]\n",
    "        if len(z_cut)<=2:\n",
    "            continue\n",
    "        sim_func = interp1d(z_cut.index.values,z_cut[0].values)\n",
    "        for i in z_df[z_df.isnull().any(axis=1)].index.values:\n",
    "            z[start+i] = sim_func(i)\n",
    "        Z[j] = z\n",
    "        \n",
    "    return Z.T"
   ]
  },
  {
   "cell_type": "code",
   "execution_count": 11,
   "metadata": {},
   "outputs": [
    {
     "data": {
      "application/vnd.jupyter.widget-view+json": {
       "model_id": "4dd691867ba74c08a47b30c78ff34282",
       "version_major": 2,
       "version_minor": 0
      },
      "text/plain": [
       "Canvas(toolbar=Toolbar(toolitems=[('Home', 'Reset original view', 'home', 'home'), ('Back', 'Back to previous …"
      ]
     },
     "metadata": {},
     "output_type": "display_data"
    },
    {
     "data": {
      "application/vnd.jupyter.widget-view+json": {
       "model_id": "76d9a0a0645447cca46f268b4037fa1b",
       "version_major": 2,
       "version_minor": 0
      },
      "text/plain": [
       "interactive(children=(Dropdown(description='Performance Metric', options=('Cell Volumetric Energy Density (Wh/…"
      ]
     },
     "metadata": {},
     "output_type": "display_data"
    }
   ],
   "source": [
    "fig3,ax3 = plt.subplots(1,1,figsize=(6,5.5),constrained_layout=True)\n",
    "\n",
    "choose_opt = widgets.Dropdown(options = [ced_col,aed_col,ed_col,cpd_col,apd_col,pd_col,cap_col],\n",
    "                              description='Performance Metric',style = {'description_width': 'initial'})\n",
    "choose_crate = widgets.Dropdown(options = all_sims_that_ran['C-rate (1/h)'].unique(),\n",
    "                                description='C-rate',style = {'description_width': 'initial'})\n",
    "choose_fixed_col = widgets.Dropdown(options = ['Vol Frac Cond','Porosity','L (um)'],\n",
    "                                    description='Fixed Design Parameter',style = {'description_width': 'initial'})\n",
    "choose_fixed_col_val = widgets.Dropdown()\n",
    "\n",
    "# Define a function that updates the content of y based on what we select for x\n",
    "def update(*args):\n",
    "    choose_fixed_col_val.options = all_sims_that_ran[choose_fixed_col.value].unique().tolist()\n",
    "    choose_fixed_col_val.description = choose_fixed_col.value\n",
    "    choose_fixed_col_val.style = {'description_width': 'initial'}\n",
    "choose_fixed_col.observe(update)\n",
    "\n",
    "# Some function you want executed\n",
    "def filter_sims(output,c_rate,fixed_col,fixed_col_val):\n",
    "    \n",
    "    ax3.clear()\n",
    "    \n",
    "    sims_cut = all_sims_that_ran.loc[all_sims_that_ran['C-rate (1/h)']==c_rate]\n",
    "    sims_cut = sims_cut.loc[sims_cut[fixed_col]==fixed_col_val]\n",
    "\n",
    "    cols = ['Porosity','L (um)','Vol Frac Cond']\n",
    "    cols.remove(fixed_col)\n",
    "\n",
    "    pivtab = sims_cut.pivot_table(index=cols[0], columns=cols[1], values=output)\n",
    "    \n",
    "#     dropcols,droprows = [],[]\n",
    "#     for col in pivtab.columns:\n",
    "#         if len(pivtab[[col]].dropna()<3): dropcols.append(col)\n",
    "#     for row in pivtab.index.values:\n",
    "#         if len(pivtab.loc[row,:].dropna()<3): droprows.append(rows)\n",
    "#     # still need to do the actual dropping\n",
    "    \n",
    "    \n",
    "    Z = pivtab.T.values\n",
    "    Z = fill_gaps(Z)\n",
    "    pivtab = pd.DataFrame(Z.T,columns=pivtab.columns,index=pivtab.index.values)\n",
    "    \n",
    "    if output == cap_col:\n",
    "        output_label = output\n",
    "    elif int(output.split(')')[0][-1])==3:\n",
    "        Z*=1000\n",
    "        output_label = output.split('/')[0] + '/L)'\n",
    "    elif int(output.split(')')[0][-1])==2:\n",
    "        Z*=10000\n",
    "        output_label = output.split('/')[0] + '/m2)'\n",
    "#     output_label = str(c_rate)+' C ,'+output_label\n",
    "\n",
    "    X_unique = np.sort(sims_cut[cols[0]].unique())\n",
    "    Y_unique = np.sort(sims_cut[cols[1]].unique())\n",
    "    X, Y = np.meshgrid(X_unique, Y_unique)\n",
    "        \n",
    "    if (np.max([len(pivtab.dropna(axis=1)),len(pivtab.dropna(axis=0))])<4) or (np.min([len(pivtab),len(pivtab.columns)])<2):\n",
    "#         display(pivtab)\n",
    "        print('Not enough data to construct contour map. Please Choose a different combination of inputs')\n",
    "    else:\n",
    "        # plot\n",
    "        xlab,ylab = cols[0],cols[1]\n",
    "        levels = np.round(np.nanmax(Z)*np.array([0.1,0.2,0.3,0.4,0.5,0.6,0.7,0.75,0.8,0.85,0.9,1]),0).astype(int)\n",
    "\n",
    "        cpf = ax3.contourf(X,Y,Z, levels, cmap=cm.GnBu)\n",
    "\n",
    "        # Set all level lines to black\n",
    "        line_colors = ['black' for l in cpf.levels]\n",
    "\n",
    "        # Make plot and customize axes\n",
    "        cp = ax3.contour(X, Y, Z, levels=levels, colors=line_colors)\n",
    "        ax3.clabel(cp, fontsize=10, colors=line_colors,fmt='%1.0f')\n",
    "        fixed_lab = str(c_rate)+'C, '+label_dict[fixed_col]+' = '+str(fixed_col_val)\n",
    "        if fixed_col=='L (um)': fixed_lab= fixed_lab + r'$\\mu m$'\n",
    "        ax3.set_title(fixed_lab)\n",
    "        ax3.set_xlabel(xlab)\n",
    "        ax3.set_ylabel(ylab)\n",
    "\n",
    "    #     fig3.colorbar(cpf, ax=ax3)\n",
    "    \n",
    "        fig3.suptitle(output_label,fontsize=15)\n",
    "        \n",
    "        display(pivtab)\n",
    "    \n",
    "\n",
    "widgets.interact(filter_sims,output = choose_opt,\n",
    "                     c_rate = choose_crate,\n",
    "                     fixed_col = choose_fixed_col,\n",
    "                     fixed_col_val = choose_fixed_col_val);"
   ]
  },
  {
   "cell_type": "code",
   "execution_count": null,
   "metadata": {},
   "outputs": [],
   "source": []
  },
  {
   "cell_type": "code",
   "execution_count": null,
   "metadata": {},
   "outputs": [],
   "source": []
  }
 ],
 "metadata": {
  "hide_input": false,
  "kernelspec": {
   "display_name": "Python 3",
   "language": "python",
   "name": "python3"
  },
  "language_info": {
   "codemirror_mode": {
    "name": "ipython",
    "version": 3
   },
   "file_extension": ".py",
   "mimetype": "text/x-python",
   "name": "python",
   "nbconvert_exporter": "python",
   "pygments_lexer": "ipython3",
   "version": "3.7.6"
  },
  "toc": {
   "base_numbering": 1,
   "nav_menu": {},
   "number_sections": true,
   "sideBar": true,
   "skip_h1_title": false,
   "title_cell": "Table of Contents",
   "title_sidebar": "Contents",
   "toc_cell": false,
   "toc_position": {},
   "toc_section_display": true,
   "toc_window_display": false
  }
 },
 "nbformat": 4,
 "nbformat_minor": 4
}
