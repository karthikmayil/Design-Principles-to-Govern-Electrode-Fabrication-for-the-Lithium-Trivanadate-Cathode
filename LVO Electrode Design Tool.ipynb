{
 "cells": [
  {
   "cell_type": "code",
   "execution_count": 1,
   "metadata": {},
   "outputs": [],
   "source": [
    "%matplotlib widget\n",
    "import ipywidgets as widgets"
   ]
  },
  {
   "cell_type": "code",
   "execution_count": 2,
   "metadata": {},
   "outputs": [],
   "source": [
    "import numpy as np\n",
    "import pandas as pd\n",
    "import matplotlib.pyplot as plt\n",
    "import os"
   ]
  },
  {
   "cell_type": "code",
   "execution_count": 3,
   "metadata": {},
   "outputs": [],
   "source": [
    "# contains helper functions to do actual optimizaiton analysis\n",
    "import optimization_helper_functions as OHF"
   ]
  },
  {
   "cell_type": "code",
   "execution_count": 4,
   "metadata": {},
   "outputs": [],
   "source": [
    "cwd = os.getcwd()"
   ]
  },
  {
   "cell_type": "code",
   "execution_count": 5,
   "metadata": {},
   "outputs": [],
   "source": [
    "diameter = 1.27 #cm\n",
    "area = np.pi*(diameter/2)**2\n",
    "Fconst=96485\n",
    "\n",
    "molar_mass_LiV3O8 = 287.7607\n",
    "density_LiV3O8 = 3.15              \n",
    "density_carbon = 2.266\n",
    "max_mAhg = 362\n",
    "\n",
    "ed_col = 'Electrode Volumetric Energy Density (Wh/cm3)'\n",
    "pd_col = 'Electrode Volumetric Power Density (W/cm3)'\n",
    "aed_col = 'Electrode Areal Energy Density (Wh/cm2)'\n",
    "apd_col = 'Electrode Areal Power Density (W/cm2)'\n",
    "ced_col = 'Cell Volumetric Energy Density (Wh/cm3)'\n",
    "cpd_col = 'Cell Volumetric Power Density (W/cm3)'"
   ]
  },
  {
   "cell_type": "code",
   "execution_count": 6,
   "metadata": {},
   "outputs": [],
   "source": [
    "# def add_anode(sims,L_sep=20,L_cc_a=15,L_cc_c=15,Q_spec_a=372,rho_a=2.2,eps_a=0.35,Q_a_Q_c_ratio=1):\n",
    "def add_anode(sims,L_sep=20,L_cc_a=15,L_cc_c=15,Q_spec_a=3860,rho_a=0.534,eps_a=0.0,Q_a_Q_c_ratio=1):\n",
    "\n",
    "    LBOC = L_sep+L_cc_a+L_cc_c\n",
    "    \n",
    "    sims['L_anode (um)'] = 10000*max_mAhg*sims['AM Loading (g)']/(Q_a_Q_c_ratio*Q_spec_a*area*(1-eps_a)*rho_a)\n",
    "    sims['L_cell (um)'] = sims['L_anode (um)'] + LBOC + sims['L (um)']\n",
    "    \n",
    "    sims[ced_col] = sims[aed_col]/((sims['L (um)']+LBOC+sims['L_anode (um)'])/10000)\n",
    "    sims[cpd_col] = sims[apd_col]/((sims['L (um)']+LBOC+sims['L_anode (um)'])/10000)\n",
    "    \n",
    "    return sims"
   ]
  },
  {
   "cell_type": "code",
   "execution_count": 7,
   "metadata": {},
   "outputs": [],
   "source": [
    "drop_cols = ['Bind Loading (g)', 'Cathode Volume (cm3)','Vol Frac Bind','mAh_exp','tstep (s)',\n",
    "             'Current (A)','Tortuosity (Bruggeman)']\n",
    "crates = [0.1,0.2,0.33,0.5,0.75,1]\n",
    "all_crate_sims_that_ran = []\n",
    "for cr in crates:\n",
    "\n",
    "    colname_filename = cwd+'/vary_crate/'+str(cr)+'_C/column_names.txt'\n",
    "\n",
    "    filename = cwd+'/vary_crate/'+str(cr)+'_C/Simulation_Parameters_processed.txt'\n",
    "    all_sims, sims_that_ran, sims_that_crashed = OHF.read_in_sims_table(filename,colname_filename,drop_cols,print_cols=False)\n",
    "\n",
    "    sims_that_ran[apd_col] = sims_that_ran[pd_col]*sims_that_ran['L (um)']/10000\n",
    "    all_crate_sims_that_ran.append(sims_that_ran)\n",
    "\n",
    "all_sims_that_ran = pd.concat(all_crate_sims_that_ran)\n",
    "all_sims_that_ran = all_sims_that_ran.drop(['fail_id','Time','Voltage','Integrated Voltage','Ran','Utilization_cr'],axis=1)\n",
    "all_sims_that_ran = add_anode(all_sims_that_ran)"
   ]
  },
  {
   "cell_type": "markdown",
   "metadata": {},
   "source": [
    "The details of this analysis can be found in the paper [Design Principles to Govern Electrode Fabrication for the Lithium Trivanadate Cathode](https://iopscience.iop.org/article/10.1149/1945-7111/ab91c8). \n",
    "\n",
    "# Optimal Design\n",
    "\n",
    "Choose the **optimization metric** (i.e. Cell Energy Density) you wish to optimize. \n",
    "The **sensitivity** will be displayed as a shaded region that will show the range of design parameter values for which the designated fraction of the maximum achievable **optimization metric** is achieved when the other design parameters are held at their optimal values.\n",
    "After the desired **optimization metric** and **sensitivity** are chosen, click the **Run Interact** button to update the plot. "
   ]
  },
  {
   "cell_type": "code",
   "execution_count": 23,
   "metadata": {},
   "outputs": [
    {
     "data": {
      "application/vnd.jupyter.widget-view+json": {
       "model_id": "f28ce89225e74d438663033242ff3170",
       "version_major": 2,
       "version_minor": 0
      },
      "text/plain": [
       "Canvas(toolbar=Toolbar(toolitems=[('Home', 'Reset original view', 'home', 'home'), ('Back', 'Back to previous …"
      ]
     },
     "metadata": {},
     "output_type": "display_data"
    },
    {
     "data": {
      "application/vnd.jupyter.widget-view+json": {
       "model_id": "401f0ec6c09443f3a331535f25ebe29c",
       "version_major": 2,
       "version_minor": 0
      },
      "text/plain": [
       "interactive(children=(Dropdown(description='optimization_metric', options=('Electrode Volumetric Energy Densit…"
      ]
     },
     "metadata": {},
     "output_type": "display_data"
    }
   ],
   "source": [
    "# plt.close(figi)\n",
    "figi,axi = plt.subplots(1,3,figsize=(9,2.5),constrained_layout=True)\n",
    "@widgets.interact_manual(optimization_metric=[ed_col,aed_col,ced_col,pd_col,apd_col,cpd_col],sensitivity=(0.5,1,0.05))\n",
    "def plot_optimization(optimization_metric,sensitivity):\n",
    "    for ax in axi:\n",
    "        ax.clear()\n",
    "    \n",
    "    # load all data\n",
    "    drop_cols = ['Bind Loading (g)', 'Cathode Volume (cm3)','Vol Frac Bind','mAh_exp','tstep (s)',\n",
    "             'Current (A)','Tortuosity (Bruggeman)']\n",
    "    crates = [0.1,0.2,0.33,0.5,0.75,1]\n",
    "    all_crate_sims_that_ran = []\n",
    "    for cr in crates:\n",
    "\n",
    "        colname_filename = cwd+'/vary_crate/'+str(cr)+'_C/column_names.txt'\n",
    "\n",
    "        filename = cwd+'/vary_crate/'+str(cr)+'_C/Simulation_Parameters_processed.txt'\n",
    "        all_sims, sims_that_ran, sims_that_crashed = OHF.read_in_sims_table(filename,colname_filename,drop_cols,print_cols=False)\n",
    "\n",
    "        sims_that_ran[apd_col] = sims_that_ran[pd_col]*sims_that_ran['L (um)']/10000\n",
    "        all_crate_sims_that_ran.append(sims_that_ran)\n",
    "\n",
    "    all_sims_that_ran = pd.concat(all_crate_sims_that_ran)\n",
    "    all_sims_that_ran = all_sims_that_ran.drop(['fail_id','Time','Voltage','Integrated Voltage','Ran','Utilization_cr'],axis=1)\n",
    "    all_sims_that_ran = add_anode(all_sims_that_ran)\n",
    "        \n",
    "        \n",
    "    design_parameter = optimization_metric\n",
    "    best_cols = ['Porosity','Vol Frac Cond','L (um)']\n",
    "    output_labels = [r'Cell $E_V$ ($\\frac{Wh}{L}$)',r'$E_A$ ($\\frac{Wh}{m^2}$)']\n",
    "\n",
    "    all_sims_that_ran,new_design_parameter = OHF.change_units(all_sims_that_ran,design_parameter)\n",
    "    best_df = OHF.design_guide_plots(all_sims_that_ran,best_cols,[axi[0],axi[1],axi[2]],optimize_output=new_design_parameter,color='blue')\n",
    "    # for pp in [0.9]:\n",
    "    pp = sensitivity\n",
    "    OHF.plot_percentile(all_sims_that_ran,best_cols,[axi[0],axi[1],axi[2]],color='blue',percentile=pp,optimize_output=new_design_parameter)\n",
    "\n",
    "\n",
    "    axi[0].set_ylim(0,1)\n",
    "    axi[0].set_ylabel(r'Optimal $\\epsilon$')\n",
    "\n",
    "    axi[1].axhline(y=0.05,linestyle='--',color='black',lw=2,marker='')\n",
    "    axi[1].set_yscale('linear')\n",
    "    axi[1].set_ylim(0.01,0.09)\n",
    "    axi[1].set_ylabel(r'Optimal $\\widebar{v}_{Cond}$')\n",
    "\n",
    "    axi[2].set_ylim(0,np.min([1.25*axi[2].get_ylim()[1],500]))\n",
    "    axi[2].set_ylabel(r'Optimal L ($\\mu m$)')\n",
    "\n",
    "\n",
    "    for axicr in figi.axes:\n",
    "        axicr.set_xlim(0.1,1.0)"
   ]
  },
  {
   "cell_type": "code",
   "execution_count": 9,
   "metadata": {
    "code_folding": []
   },
   "outputs": [],
   "source": [
    "class electrode:\n",
    "    chemistry = 'LVO'\n",
    "    \n",
    "    # Initializer / Instance Attributes\n",
    "    def __init__(self, L, eps, vfc, vfb=0.0):\n",
    "        self.L = L\n",
    "        self.eps = eps\n",
    "        self.vfc = vfc\n",
    "        self.vfb = vfb\n",
    "        \n",
    "    def get_specs(self):\n",
    "        out_dict = {}\n",
    "        best_cols = ['Porosity','Vol Frac Cond','L (um)']\n",
    "        for col,val in zip(best_cols,[self.eps,self.vfc,self.L]):\n",
    "            out_dict[col] = val\n",
    "        return out_dict\n",
    "        \n",
    "    def nearest_simulated_electrode(self):\n",
    "        best_cols = ['Porosity','Vol Frac Cond','L (um)']\n",
    "        sims = all_sims_that_ran.copy()\n",
    "        for col,val in zip(best_cols,[self.eps,self.vfc,self.L]):\n",
    "            col_vals = sims[col].unique()\n",
    "            sims = sims.loc[sims[col]==col_vals.flat[np.abs(col_vals - val).argmin()]]\n",
    "        return sims\n",
    "        \n",
    "    def performance(self,c_rate):\n",
    "        best_cols = ['Porosity','Vol Frac Cond','L (um)']\n",
    "        sims = all_sims_that_ran.copy()\n",
    "        for col,val in zip(best_cols,[self.eps,self.vfc,self.L]):\n",
    "            col_vals = sims[col].unique()\n",
    "            sims = sims.loc[sims[col]==col_vals.flat[np.abs(col_vals - val).argmin()]]\n",
    "        return sims.loc[sims['C-rate (1/h)']==c_rate]\n",
    "        \n",
    "    def rate_capability(self,ax=None):\n",
    "        best_cols = ['Porosity','Vol Frac Cond','L (um)']\n",
    "        sims = all_sims_that_ran.copy()\n",
    "        for col,val in zip(best_cols,[self.eps,self.vfc,self.L]):\n",
    "            col_vals = sims[col].unique()\n",
    "            sims = sims.loc[sims[col]==col_vals.flat[np.abs(col_vals - val).argmin()]]\n",
    "        if ax is not None:\n",
    "            lab = 'L = '+str(int(sims['L (um)'].values[0]))+r', $\\epsilon$ =' + str(np.round(sims['Porosity'].values[0],2))+r', $\\widebar{v}_{CNT}$ ='+ str(np.round(sims['Vol Frac Cond'].values[0],2))\n",
    "            ax.plot(sims['C-rate (1/h)'],sims['Capacity (mAh/g)'],'-o',label=lab)\n",
    "            ax.set_xlabel('C-rate (1/h)')\n",
    "            ax.set_ylabel('Capacity (mAh/g)')\n",
    "        return sims[['C-rate (1/h)','Capacity (mAh/g)']]\n",
    "#     def active_material_mass(self):\n",
    "    \n",
    "#     def conductor_mass(self):\n",
    "        \n",
    "#     def binder_mass(self):\n",
    "        \n",
    "#     def active_material_mass_loading(self):\n",
    "        \n",
    "#     def volume_distribution(self):\n",
    "        \n",
    "#     def tortuosity(self):\n",
    "        \n",
    "#     def electronic_conductivity(self):\n",
    "        \n",
    "# class cell(electrode):\n",
    "    "
   ]
  },
  {
   "cell_type": "markdown",
   "metadata": {},
   "source": [
    "# Rate Capability\n",
    "\n",
    "This module allows the user to virtually \"make\" different electrodes and visualize how the discharge capacity will depend on the design parameters chosen. \n",
    "\n",
    "The length of the electrode in micros **L_um**, the electrode **porosity**, and the volume fraction of conductive additive **vol_frac_cond** must be specified. \n",
    "\n",
    "After the desired values of design parameters are chosen, click the **Run Interact** button to update the plot. \n",
    "\n",
    "The plot can be cleared by checking the **clear_plot** box."
   ]
  },
  {
   "cell_type": "code",
   "execution_count": 30,
   "metadata": {},
   "outputs": [
    {
     "data": {
      "application/vnd.jupyter.widget-view+json": {
       "model_id": "d54eeaf89ff84aefba966463d92497f2",
       "version_major": 2,
       "version_minor": 0
      },
      "text/plain": [
       "Canvas(toolbar=Toolbar(toolitems=[('Home', 'Reset original view', 'home', 'home'), ('Back', 'Back to previous …"
      ]
     },
     "metadata": {},
     "output_type": "display_data"
    },
    {
     "data": {
      "application/vnd.jupyter.widget-view+json": {
       "model_id": "909dbe1f092140358ee38ab2568fe373",
       "version_major": 2,
       "version_minor": 0
      },
      "text/plain": [
       "interactive(children=(IntSlider(value=270, description='L_um', max=500, min=50, step=10), FloatSlider(value=0.…"
      ]
     },
     "metadata": {},
     "output_type": "display_data"
    }
   ],
   "source": [
    "fig, ax = plt.subplots(1, 1, figsize=(10, 4),constrained_layout=True)\n",
    "fig.suptitle('Rate Capability')\n",
    "@widgets.interact_manual(porosity=(0.1, 0.9,0.01),L_um=(50,500,10),vol_frac_cond=(0.01,0.2,0.01),Clear_Plot=False)\n",
    "# @widgets.interact_manual(choose_eps,choose_L,choose_vfc)\n",
    "def plot_RC(L_um,porosity,vol_frac_cond,Clear_Plot):\n",
    "    if Clear_Plot:\n",
    "        ax.clear()\n",
    "    e1 = electrode(L=L_um,eps=porosity,vfc=vol_frac_cond)\n",
    "    RC_df = e1.rate_capability(ax)\n",
    "    ax.grid(True)\n",
    "    \n",
    "    colors = plt.cm.plasma(np.linspace(0.3,1,len(ax.lines)))\n",
    "    for l,c in zip(ax.lines,colors):\n",
    "        l.set_color(c)\n",
    "        \n",
    "    ax.legend(loc='center left', bbox_to_anchor=(1, 0.5),frameon=False)"
   ]
  },
  {
   "cell_type": "code",
   "execution_count": null,
   "metadata": {},
   "outputs": [],
   "source": []
  }
 ],
 "metadata": {
  "kernelspec": {
   "display_name": "Python 3",
   "language": "python",
   "name": "python3"
  },
  "language_info": {
   "codemirror_mode": {
    "name": "ipython",
    "version": 3
   },
   "file_extension": ".py",
   "mimetype": "text/x-python",
   "name": "python",
   "nbconvert_exporter": "python",
   "pygments_lexer": "ipython3",
   "version": "3.7.6"
  },
  "toc": {
   "base_numbering": 1,
   "nav_menu": {},
   "number_sections": true,
   "sideBar": true,
   "skip_h1_title": false,
   "title_cell": "Table of Contents",
   "title_sidebar": "Contents",
   "toc_cell": false,
   "toc_position": {},
   "toc_section_display": true,
   "toc_window_display": false
  }
 },
 "nbformat": 4,
 "nbformat_minor": 4
}
